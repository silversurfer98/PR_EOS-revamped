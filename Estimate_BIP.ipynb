{
 "cells": [
  {
   "attachments": {},
   "cell_type": "markdown",
   "metadata": {},
   "source": [
    "#### Estimating BIP parameters [link](https://cheguide.com/estimate_BIP.html)"
   ]
  },
  {
   "cell_type": "code",
   "execution_count": null,
   "metadata": {},
   "outputs": [],
   "source": [
    "# all parameters we need\n",
    "import numpy as np\n",
    "from matplotlib import pyplot as plt\n",
    "from scipy.optimize import minimize as mi\n",
    "R = 8.31446261815324"
   ]
  },
  {
   "cell_type": "code",
   "execution_count": null,
   "metadata": {},
   "outputs": [],
   "source": [
    "p = 0.10133 #Mpa\n",
    "mw = np.array([58.08, 119.378])\n",
    "pc = np.array([4.70148, 5.47155]) #Mpa\n",
    "tc = np.array([508.1, 536.4])\n",
    "w = np.array([0.309, 0.216])\n",
    "\n",
    "#txy data\n",
    "t = np.array([335.75, 336.65, 337.25, 337.55, 336.95, 335.85, 334.65, 333.45, 332.15, 331.05, 330.15])\n",
    "# t = np.array([335.75])\n",
    "x1 = np.array([0.098, 0.186, 0.266, 0.360, 0.468, 0.578, 0.673, 0.755, 0.827, 0.892, 0.949])\n",
    "# x1 = np.array([0.098])\n",
    "x2 = 1 - x1\n",
    "y1 = np.array([0.060, 0.143, 0.230, 0.360, 0.514, 0.646, 0.751, 0.830, 0.890, 0.939, 0.975])\n",
    "y2 = 1 - y1\n",
    "\n",
    "ki = 0.37464 + 1.54226*w - 0.26992*w**2\n",
    "k_exp = y1 / x1"
   ]
  },
  {
   "cell_type": "code",
   "execution_count": null,
   "metadata": {},
   "outputs": [],
   "source": [
    "plt.xlabel(\"x [liq phase]\")\n",
    "plt.ylabel(\"y [gas phase]\")\n",
    "plt.plot(x1,y1,'r--',label='Acetone')\n",
    "plt.plot(x2,y2,'b:',label=\"chloroform\")\n",
    "plt.title(\"T-x-y Plot\")\n",
    "plt.legend()\n",
    "plt.show()"
   ]
  },
  {
   "cell_type": "code",
   "execution_count": null,
   "metadata": {},
   "outputs": [],
   "source": [
    "# k12 = -0.0604948725819791\n",
    "k12 = 0.12\n",
    "x1.size\n",
    "kk = np.zeros((2,2))\n",
    "kk[0][0] = 0\n",
    "kk[0][1] = k12\n",
    "kk[1][0] = k12\n",
    "kk[1][1] = 0\n"
   ]
  },
  {
   "cell_type": "code",
   "execution_count": null,
   "metadata": {},
   "outputs": [],
   "source": [
    "alphai = np.zeros((2,x1.size))\n",
    "ai = np.zeros((2,x1.size))\n",
    "bi = np.zeros((2,x1.size))\n",
    "\n",
    "for i in range(2):\n",
    "    alphai[i] = (1 + ki[i] * (1 - (t/tc[i])**0.5))**2\n",
    "    ai[i] = 0.45724 * (R * tc[i])**2 * alphai[i] / pc[i]\n",
    "    bi[i] = 0.07780 * R * tc[i] / pc[i]"
   ]
  },
  {
   "cell_type": "code",
   "execution_count": null,
   "metadata": {},
   "outputs": [],
   "source": [
    "aik = np.zeros((2,x1.size))\n",
    "a12 = ((ai[0] * ai[1])**0.5 * (1 - k12))\n",
    "aik[0] = (ai[0] * x1) + (a12 * x2)\n",
    "aik[1] = (ai[1] * x2) + (a12 * x1)"
   ]
  },
  {
   "cell_type": "code",
   "execution_count": null,
   "metadata": {},
   "outputs": [],
   "source": [
    "bi"
   ]
  },
  {
   "cell_type": "code",
   "execution_count": null,
   "metadata": {},
   "outputs": [],
   "source": [
    "for i in range(0,2):\n",
    "    for j in range(0, 2):\n",
    "        print(i,j,((ai[i] * ai[j])**0.5 * (1 - kk[i][j])))"
   ]
  },
  {
   "cell_type": "code",
   "execution_count": null,
   "metadata": {},
   "outputs": [],
   "source": [
    "# for liq phase\n",
    "a = ai[0]*x1**2 + (2 * a12 * x1 * x2) + ai[1]*x2**2\n",
    "b = bi[0]*x1 + bi[1]*x2\n",
    "A = a*p/(R*t)**2\n",
    "B = (b*p)/(R*t)\n",
    "C2 = (B-1)\n",
    "C1 = (A - 3*B**2 - 2*B)\n",
    "C0 = (B**3 + B**2 - A*B)"
   ]
  },
  {
   "cell_type": "code",
   "execution_count": null,
   "metadata": {},
   "outputs": [],
   "source": [
    "aik[0]"
   ]
  },
  {
   "cell_type": "code",
   "execution_count": null,
   "metadata": {},
   "outputs": [],
   "source": [
    "# for liq phase\n",
    "phiL = []\n",
    "zl = np.zeros(x1.size)\n",
    "l=0\n",
    "for i,j,k in zip(C2,C1,C0):\n",
    "    coeff = np.array([1,i,j,k])\n",
    "    roots = np.array(np.roots(coeff))\n",
    "    zl[l] = roots[2]\n",
    "    l+=1\n",
    "\n",
    "# print(zl)\n",
    "temp1 = bi / b\n",
    "phiL = np.exp(((temp1) * (zl - 1)) -  (np.log(zl - B)) - (A / (2*np.sqrt(2)*B)) *  ((2 * aik / a) - temp1) * np.log((zl + 2.414213562373095*B) / (zl - 0.41421356237309515*B)))\n",
    "    \n",
    "\n",
    "print(phiL)\n"
   ]
  },
  {
   "cell_type": "code",
   "execution_count": null,
   "metadata": {},
   "outputs": [],
   "source": [
    "aik[0]"
   ]
  },
  {
   "cell_type": "code",
   "execution_count": null,
   "metadata": {},
   "outputs": [],
   "source": [
    "# for gas phase\n",
    "a = ai[0]*y1**2 + (2 * a12 * y1 * y2) + ai[1]*y2**2\n",
    "b = bi[0]*y1 + bi[1]*y2\n",
    "A = a*p/(R*t)**2\n",
    "B = (b*p)/(R*t)\n",
    "C2 = (B-1)\n",
    "C1 = (A - 3*B**2 - 2*B)\n",
    "C0 = (B**3 + B**2 - A*B)"
   ]
  },
  {
   "cell_type": "code",
   "execution_count": null,
   "metadata": {},
   "outputs": [],
   "source": [
    "# for gas phase\n",
    "phiV = []\n",
    "for i,j,k in zip(C2,C1,C0):\n",
    "    coeff = np.array([1,i,j,k])\n",
    "    roots = np.array(np.roots(coeff))\n",
    "    zv = roots[0]\n",
    "    # print(zv)\n",
    "    temp1 = b / bi\n",
    "    phiV = np.exp(((temp1) * (zl - 1)) -  (np.log(zl - B)) - (0.35355339059327373 * A / B) *  ((2 * aik / a) - temp1) * np.log((zl + 2.414213562373095*B) / (zl - 0.41421356237309515*B)))\n",
    "print(phiV)\n",
    "\n"
   ]
  },
  {
   "cell_type": "code",
   "execution_count": null,
   "metadata": {},
   "outputs": [],
   "source": [
    "# common parameters\n",
    "alphai = np.zeros((2,x1.size))\n",
    "ai = np.zeros((2,x1.size))\n",
    "bi = np.zeros((2,x1.size))\n",
    "\n",
    "for i in range(2):\n",
    "    alphai[i] = (1 + ki[i] * (1 - (t/tc[i])**0.5))**2\n",
    "    ai[i] = 0.45724 * (R * tc[i])**2 * alphai[i] / pc[i]\n",
    "    bi[i] = 0.07780 * R * tc[i] / pc[i]\n",
    "\n",
    "# def func(k12, to_graph=False):\n",
    "def func(k12):\n",
    "    aik = np.zeros((2,x1.size))\n",
    "    a12 = ((ai[0] * ai[1])**0.5 * (1 - k12))\n",
    "    aik[0] = (ai[0] * x1) + (a12 * x2)\n",
    "    aik[1] = (ai[1] * x2) + (a12 * x1)\n",
    "\n",
    "    # PR props for liq phase\n",
    "    a = ai[0]*x1**2 + (2 * a12 * x1 * x2) + ai[1]*x2**2\n",
    "    b = bi[0]*x1 + bi[1]*x2\n",
    "    A = a*p/(R*t)**2\n",
    "    B = (b*p)/(R*t)\n",
    "    C2 = (B-1)\n",
    "    C1 = (A - 3*B**2 - 2*B)\n",
    "    C0 = (B**3 + B**2 - A*B)\n",
    "\n",
    "    # find fugacity liq phase\n",
    "    phiL = []\n",
    "    zl = np.zeros(x1.size)\n",
    "    l=0\n",
    "    for i,j,k in zip(C2,C1,C0):\n",
    "        coeff = np.array([1,i,j,k])\n",
    "        roots = np.array(np.roots(coeff))\n",
    "        zl[l] = roots[2]\n",
    "        l+=1\n",
    "    # print(zl)\n",
    "    temp1 = bi / b\n",
    "    phiL = np.exp(((temp1) * (zl - 1)) -  (np.log(zl - B)) - (A / (2*np.sqrt(2)*B)) *  ((2 * aik / a) - temp1) * np.log((zl + 2.414213562373095*B) / (zl - 0.41421356237309515*B)))\n",
    "\n",
    "    aik[0] = (ai[0] * y1) + (a12 * y2)\n",
    "    aik[1] = (ai[1] * y2) + (a12 * y1)\n",
    "    \n",
    "    # PR props for gas phase\n",
    "    a = ai[0]*y1**2 + (2 * a12 * y1 * y2) + ai[1]*y2**2\n",
    "    b = bi[0]*y1 + bi[1]*y2\n",
    "    A = a*p/(R*t)**2\n",
    "    B = (b*p)/(R*t)\n",
    "    C2 = (B-1)\n",
    "    C1 = (A - 3*B**2 - 2*B)\n",
    "    C0 = (B**3 + B**2 - A*B)\n",
    "\n",
    "    # find fugacity gas phase\n",
    "    phiV = []\n",
    "    zv = np.zeros(y1.size)\n",
    "    l=0\n",
    "    for i,j,k in zip(C2,C1,C0):\n",
    "        coeff = np.array([1,i,j,k])\n",
    "        roots = np.array(np.roots(coeff))\n",
    "        zv[l] = roots[0]\n",
    "        l+=1\n",
    "    # print(zl)\n",
    "    temp1 = bi / b\n",
    "    phiV = np.exp(((temp1) * (zv - 1)) -  (np.log(zv - B)) - (A / (2*np.sqrt(2)*B)) *  ((2 * aik / a) - temp1) * np.log((zv + 2.414213562373095*B) / (zv - 0.41421356237309515*B)))\n",
    "\n",
    "    k_calc = phiL/phiV\n",
    "    y1_calc = k_calc[0]*x1\n",
    "    # print(k_calc[0] - k_exp)\n",
    "    # return (np.linalg.norm(y1-y1_calc)**2)/len(y1)\n",
    "    return (np.abs(k_exp-k_calc[0])).sum()\n",
    "    # print(phiL)\n",
    "    # print(phiV)\n",
    "\n",
    "    # if(to_graph):\n",
    "        # plt.plot(x1,y1_calc,label=\"predicted\")\n",
    "        # plt.plot(x1,y1,'r:',label=\"original\")\n",
    "        # plt.legend()\n"
   ]
  },
  {
   "cell_type": "code",
   "execution_count": null,
   "metadata": {},
   "outputs": [],
   "source": [
    "func(0.12)"
   ]
  },
  {
   "cell_type": "code",
   "execution_count": null,
   "metadata": {},
   "outputs": [],
   "source": [
    "x0 = 0.12\n",
    "res = mi(func, x0, method='Nelder-Mead', tol=1e-5)"
   ]
  },
  {
   "cell_type": "code",
   "execution_count": null,
   "metadata": {},
   "outputs": [],
   "source": [
    "res"
   ]
  }
 ],
 "metadata": {
  "kernelspec": {
   "display_name": "Python 3",
   "language": "python",
   "name": "python3"
  },
  "language_info": {
   "codemirror_mode": {
    "name": "ipython",
    "version": 3
   },
   "file_extension": ".py",
   "mimetype": "text/x-python",
   "name": "python",
   "nbconvert_exporter": "python",
   "pygments_lexer": "ipython3",
   "version": "3.11.3"
  },
  "orig_nbformat": 4
 },
 "nbformat": 4,
 "nbformat_minor": 2
}
