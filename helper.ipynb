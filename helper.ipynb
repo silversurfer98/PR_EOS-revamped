{
 "cells": [
  {
   "cell_type": "code",
   "execution_count": null,
   "metadata": {},
   "outputs": [],
   "source": [
    "db = \"E://3_PlayGround//testing//EOS//database//props.db\"\n",
    "import sqlite3 as sq"
   ]
  },
  {
   "cell_type": "code",
   "execution_count": null,
   "metadata": {},
   "outputs": [],
   "source": [
    "conn = sq.connect(db)\n",
    "cursor = conn.execute(\"select CO,H2O,Hydrogen,Methane from bip where gas_name = 'Methane' or gas_name = 'Hydrogen' or gas_name = 'H2O' or gas_name = 'CO'\")\n",
    "for row in cursor:\n",
    "   print(\"%1.5f   %1.5f   %1.5f   %1.5f\\n\" %(row[0], row[1], row[2], row[3]))\n",
    "conn.close()"
   ]
  },
  {
   "cell_type": "code",
   "execution_count": null,
   "metadata": {},
   "outputs": [],
   "source": [
    "s = \"select Methane,Hydrogen,H2O,CO,CO2 from bip where gas_name in ('Methane','Hydrogen','H2O','CO','CO2') order by id DESC\"\n",
    "len(s)\n"
   ]
  }
 ],
 "metadata": {
  "kernelspec": {
   "display_name": "Python 3",
   "language": "python",
   "name": "python3"
  },
  "language_info": {
   "codemirror_mode": {
    "name": "ipython",
    "version": 3
   },
   "file_extension": ".py",
   "mimetype": "text/x-python",
   "name": "python",
   "nbconvert_exporter": "python",
   "pygments_lexer": "ipython3",
   "version": "3.11.3"
  },
  "orig_nbformat": 4
 },
 "nbformat": 4,
 "nbformat_minor": 2
}
