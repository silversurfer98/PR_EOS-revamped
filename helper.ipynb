{
 "cells": [
  {
   "cell_type": "code",
   "execution_count": 2,
   "metadata": {},
   "outputs": [],
   "source": [
    "db = \"E://3_PlayGround//testing//EOS//database//props.db\"\n",
    "import sqlite3 as sq"
   ]
  },
  {
   "cell_type": "code",
   "execution_count": 3,
   "metadata": {},
   "outputs": [
    {
     "name": "stdout",
     "output_type": "stream",
     "text": [
      "0.00000   -0.38960   0.02530   0.02100\n",
      "\n",
      "-0.38960   0.00000   -0.29980   0.50000\n",
      "\n",
      "0.02530   -0.29980   0.00000   0.20200\n",
      "\n",
      "0.02100   0.50000   0.20200   0.00000\n",
      "\n"
     ]
    }
   ],
   "source": [
    "conn = sq.connect(db)\n",
    "cursor = conn.execute(\"select CO,H2O,Hydrogen,Methane from bip where gas_name = 'Methane' or gas_name = 'Hydrogen' or gas_name = 'H2O' or gas_name = 'CO'\")\n",
    "for row in cursor:\n",
    "   print(\"%1.5f   %1.5f   %1.5f   %1.5f\\n\" %(row[0], row[1], row[2], row[3]))\n",
    "conn.close()"
   ]
  },
  {
   "cell_type": "code",
   "execution_count": 5,
   "metadata": {},
   "outputs": [
    {
     "data": {
      "text/plain": [
       "84"
      ]
     },
     "execution_count": 5,
     "metadata": {},
     "output_type": "execute_result"
    }
   ],
   "source": [
    "s = \"gas_name = 'Methane' or gas_name = 'Hydrogen' or gas_name = 'H2O' or gas_name = 'CO'\"\n",
    "len(s)\n"
   ]
  }
 ],
 "metadata": {
  "kernelspec": {
   "display_name": "Python 3",
   "language": "python",
   "name": "python3"
  },
  "language_info": {
   "codemirror_mode": {
    "name": "ipython",
    "version": 3
   },
   "file_extension": ".py",
   "mimetype": "text/x-python",
   "name": "python",
   "nbconvert_exporter": "python",
   "pygments_lexer": "ipython3",
   "version": "3.11.3"
  },
  "orig_nbformat": 4
 },
 "nbformat": 4,
 "nbformat_minor": 2
}
